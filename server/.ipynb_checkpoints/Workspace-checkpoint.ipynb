{
 "cells": [
  {
   "cell_type": "code",
   "execution_count": 10,
   "metadata": {
    "collapsed": true
   },
   "outputs": [],
   "source": [
    "import pandas\n",
    "import numpy as np\n",
    "import mpld3\n",
    "import matplotlib\n",
    "import matplotlib.pyplot as plt\n",
    "import datetime\n",
    "\n",
    "matplotlib.style.use('ggplot')\n",
    "\n",
    "%matplotlib inline"
   ]
  },
  {
   "cell_type": "code",
   "execution_count": 11,
   "metadata": {
    "collapsed": false
   },
   "outputs": [
    {
     "name": "stdout",
     "output_type": "stream",
     "text": [
      "<class 'pandas.tslib.Timestamp'>\n"
     ]
    },
    {
     "data": {
      "text/html": [
       "<div style=\"max-height:1000px;max-width:1500px;overflow:auto;\">\n",
       "<table border=\"1\" class=\"dataframe\">\n",
       "  <thead>\n",
       "    <tr style=\"text-align: right;\">\n",
       "      <th></th>\n",
       "      <th>instance_name</th>\n",
       "      <th>database_name</th>\n",
       "      <th>table_name</th>\n",
       "      <th>table_partitioned</th>\n",
       "      <th>run_start_timestamp</th>\n",
       "      <th>run_mode</th>\n",
       "      <th>partition_key</th>\n",
       "      <th>partition_value</th>\n",
       "      <th>check_name</th>\n",
       "      <th>check_policy_type</th>\n",
       "      <th>...</th>\n",
       "      <th>run_check_start_timestamp</th>\n",
       "      <th>run_check_end_timestamp</th>\n",
       "      <th>run_check_mode</th>\n",
       "      <th>run_check_rc</th>\n",
       "      <th>run_check_violation_cnt</th>\n",
       "      <th>run_check_anomaly_score</th>\n",
       "      <th>run_check_scope</th>\n",
       "      <th>run_check_unit</th>\n",
       "      <th>run_check_severity_score</th>\n",
       "      <th>run_check_validated</th>\n",
       "    </tr>\n",
       "  </thead>\n",
       "  <tbody>\n",
       "    <tr>\n",
       "      <th>0</th>\n",
       "      <td>prod</td>\n",
       "      <td>westwind</td>\n",
       "      <td>cust_asset_events</td>\n",
       "      <td>1</td>\n",
       "      <td>2015-01-01 02:00:00</td>\n",
       "      <td>incremental</td>\n",
       "      <td>date_id</td>\n",
       "      <td>2015001</td>\n",
       "      <td>date_id_fk</td>\n",
       "      <td>quality</td>\n",
       "      <td>...</td>\n",
       "      <td>2015-01-01 02:00:00</td>\n",
       "      <td>2015-01-01 02:00:01</td>\n",
       "      <td>incremental</td>\n",
       "      <td>0</td>\n",
       "      <td>0</td>\n",
       "      <td>0</td>\n",
       "      <td>0</td>\n",
       "      <td>rows</td>\n",
       "      <td>0</td>\n",
       "      <td>NaN</td>\n",
       "    </tr>\n",
       "    <tr>\n",
       "      <th>1</th>\n",
       "      <td>prod</td>\n",
       "      <td>westwind</td>\n",
       "      <td>cust_asset_events</td>\n",
       "      <td>1</td>\n",
       "      <td>2015-01-01 02:00:00</td>\n",
       "      <td>incremental</td>\n",
       "      <td>date_id</td>\n",
       "      <td>2015001</td>\n",
       "      <td>event_type_id_fk</td>\n",
       "      <td>quality</td>\n",
       "      <td>...</td>\n",
       "      <td>2015-01-01 02:00:01</td>\n",
       "      <td>2015-01-01 02:00:02</td>\n",
       "      <td>incremental</td>\n",
       "      <td>0</td>\n",
       "      <td>0</td>\n",
       "      <td>0</td>\n",
       "      <td>0</td>\n",
       "      <td>rows</td>\n",
       "      <td>0</td>\n",
       "      <td>NaN</td>\n",
       "    </tr>\n",
       "    <tr>\n",
       "      <th>2</th>\n",
       "      <td>prod</td>\n",
       "      <td>westwind</td>\n",
       "      <td>cust_asset_events</td>\n",
       "      <td>1</td>\n",
       "      <td>2015-01-01 02:00:00</td>\n",
       "      <td>incremental</td>\n",
       "      <td>date_id</td>\n",
       "      <td>2015001</td>\n",
       "      <td>stats_not_stale</td>\n",
       "      <td>data-management</td>\n",
       "      <td>...</td>\n",
       "      <td>2015-01-01 02:00:02</td>\n",
       "      <td>2015-01-01 02:00:03</td>\n",
       "      <td>full</td>\n",
       "      <td>0</td>\n",
       "      <td>0</td>\n",
       "      <td>0</td>\n",
       "      <td>0</td>\n",
       "      <td>tables</td>\n",
       "      <td>0</td>\n",
       "      <td>NaN</td>\n",
       "    </tr>\n",
       "    <tr>\n",
       "      <th>3</th>\n",
       "      <td>prod</td>\n",
       "      <td>westwind</td>\n",
       "      <td>cust_asset_events</td>\n",
       "      <td>1</td>\n",
       "      <td>2015-01-01 02:00:00</td>\n",
       "      <td>incremental</td>\n",
       "      <td>date_id</td>\n",
       "      <td>2015001</td>\n",
       "      <td>table_not_empty</td>\n",
       "      <td>quality</td>\n",
       "      <td>...</td>\n",
       "      <td>2015-01-01 02:00:03</td>\n",
       "      <td>2015-01-01 02:00:04</td>\n",
       "      <td>incremental</td>\n",
       "      <td>0</td>\n",
       "      <td>0</td>\n",
       "      <td>0</td>\n",
       "      <td>0</td>\n",
       "      <td>tables</td>\n",
       "      <td>0</td>\n",
       "      <td>NaN</td>\n",
       "    </tr>\n",
       "    <tr>\n",
       "      <th>4</th>\n",
       "      <td>prod</td>\n",
       "      <td>westwind</td>\n",
       "      <td>cust_asset_events</td>\n",
       "      <td>1</td>\n",
       "      <td>2015-01-01 02:00:00</td>\n",
       "      <td>incremental</td>\n",
       "      <td>date_id</td>\n",
       "      <td>2015001</td>\n",
       "      <td>asset_id_fk</td>\n",
       "      <td>quality</td>\n",
       "      <td>...</td>\n",
       "      <td>2015-01-01 02:00:04</td>\n",
       "      <td>2015-01-01 02:00:05</td>\n",
       "      <td>incremental</td>\n",
       "      <td>0</td>\n",
       "      <td>0</td>\n",
       "      <td>0</td>\n",
       "      <td>0</td>\n",
       "      <td>rows</td>\n",
       "      <td>0</td>\n",
       "      <td>NaN</td>\n",
       "    </tr>\n",
       "  </tbody>\n",
       "</table>\n",
       "<p>5 rows × 21 columns</p>\n",
       "</div>"
      ],
      "text/plain": [
       "  instance_name database_name         table_name  table_partitioned  \\\n",
       "0          prod      westwind  cust_asset_events                  1   \n",
       "1          prod      westwind  cust_asset_events                  1   \n",
       "2          prod      westwind  cust_asset_events                  1   \n",
       "3          prod      westwind  cust_asset_events                  1   \n",
       "4          prod      westwind  cust_asset_events                  1   \n",
       "\n",
       "  run_start_timestamp     run_mode partition_key  partition_value  \\\n",
       "0 2015-01-01 02:00:00  incremental       date_id          2015001   \n",
       "1 2015-01-01 02:00:00  incremental       date_id          2015001   \n",
       "2 2015-01-01 02:00:00  incremental       date_id          2015001   \n",
       "3 2015-01-01 02:00:00  incremental       date_id          2015001   \n",
       "4 2015-01-01 02:00:00  incremental       date_id          2015001   \n",
       "\n",
       "         check_name check_policy_type         ...           \\\n",
       "0        date_id_fk           quality         ...            \n",
       "1  event_type_id_fk           quality         ...            \n",
       "2   stats_not_stale   data-management         ...            \n",
       "3   table_not_empty           quality         ...            \n",
       "4       asset_id_fk           quality         ...            \n",
       "\n",
       "  run_check_start_timestamp run_check_end_timestamp run_check_mode  \\\n",
       "0       2015-01-01 02:00:00     2015-01-01 02:00:01    incremental   \n",
       "1       2015-01-01 02:00:01     2015-01-01 02:00:02    incremental   \n",
       "2       2015-01-01 02:00:02     2015-01-01 02:00:03           full   \n",
       "3       2015-01-01 02:00:03     2015-01-01 02:00:04    incremental   \n",
       "4       2015-01-01 02:00:04     2015-01-01 02:00:05    incremental   \n",
       "\n",
       "  run_check_rc  run_check_violation_cnt  run_check_anomaly_score  \\\n",
       "0            0                        0                        0   \n",
       "1            0                        0                        0   \n",
       "2            0                        0                        0   \n",
       "3            0                        0                        0   \n",
       "4            0                        0                        0   \n",
       "\n",
       "   run_check_scope  run_check_unit run_check_severity_score  \\\n",
       "0                0            rows                        0   \n",
       "1                0            rows                        0   \n",
       "2                0          tables                        0   \n",
       "3                0          tables                        0   \n",
       "4                0            rows                        0   \n",
       "\n",
       "   run_check_validated  \n",
       "0                  NaN  \n",
       "1                  NaN  \n",
       "2                  NaN  \n",
       "3                  NaN  \n",
       "4                  NaN  \n",
       "\n",
       "[5 rows x 21 columns]"
      ]
     },
     "execution_count": 11,
     "metadata": {},
     "output_type": "execute_result"
    }
   ],
   "source": [
    "data = pandas.read_csv('/tmp/inspector_demo.csv',\n",
    "                       parse_dates=['run_start_timestamp', 'run_check_start_timestamp', 'run_check_end_timestamp'],\n",
    "                       date_parser=lambda d: datetime.datetime.strptime(d, \"%Y-%m-%d %H:%M:%S\"))\n",
    "print(type(data['run_start_timestamp'][0]))\n",
    "data.head()"
   ]
  },
  {
   "cell_type": "code",
   "execution_count": 12,
   "metadata": {
    "collapsed": false
   },
   "outputs": [
    {
     "data": {
      "text/plain": [
       "[62180046357]"
      ]
     },
     "execution_count": 12,
     "metadata": {},
     "output_type": "execute_result"
    }
   ],
   "source": [
    "[group['run_check_violation_cnt'].sum() for key, group in data.groupby('instance_name')]"
   ]
  },
  {
   "cell_type": "code",
   "execution_count": 36,
   "metadata": {
    "collapsed": false
   },
   "outputs": [
    {
     "ename": "TypeError",
     "evalue": "unorderable types: int() >= datetime.datetime()",
     "output_type": "error",
     "traceback": [
      "\u001b[1;31m---------------------------------------------------------------------------\u001b[0m",
      "\u001b[1;31mTypeError\u001b[0m                                 Traceback (most recent call last)",
      "\u001b[1;32m<ipython-input-36-459794804a7e>\u001b[0m in \u001b[0;36m<module>\u001b[1;34m()\u001b[0m\n\u001b[0;32m      4\u001b[0m \u001b[1;31m# Resample each timeseries by minute\u001b[0m\u001b[1;33m\u001b[0m\u001b[1;33m\u001b[0m\u001b[0m\n\u001b[0;32m      5\u001b[0m \u001b[0mhistory\u001b[0m \u001b[1;33m=\u001b[0m \u001b[1;33m[\u001b[0m\u001b[0mhist\u001b[0m\u001b[1;33m.\u001b[0m\u001b[0mresample\u001b[0m\u001b[1;33m(\u001b[0m\u001b[1;34m'H'\u001b[0m\u001b[1;33m,\u001b[0m \u001b[0mhow\u001b[0m\u001b[1;33m=\u001b[0m\u001b[1;34m'count'\u001b[0m\u001b[1;33m)\u001b[0m \u001b[1;32mfor\u001b[0m \u001b[0mhist\u001b[0m \u001b[1;32min\u001b[0m \u001b[0mhistory_raw\u001b[0m\u001b[1;33m]\u001b[0m\u001b[1;33m\u001b[0m\u001b[0m\n\u001b[1;32m----> 6\u001b[1;33m \u001b[0mhistory\u001b[0m\u001b[1;33m[\u001b[0m\u001b[1;36m0\u001b[0m\u001b[1;33m]\u001b[0m\u001b[1;33m.\u001b[0m\u001b[0mwhere\u001b[0m\u001b[1;33m(\u001b[0m\u001b[0mhistory\u001b[0m\u001b[1;33m[\u001b[0m\u001b[1;36m0\u001b[0m\u001b[1;33m]\u001b[0m\u001b[1;33m.\u001b[0m\u001b[0mvalues\u001b[0m \u001b[1;33m>=\u001b[0m \u001b[0mdatetime\u001b[0m\u001b[1;33m.\u001b[0m\u001b[0mdatetime\u001b[0m\u001b[1;33m.\u001b[0m\u001b[0mnow\u001b[0m\u001b[1;33m(\u001b[0m\u001b[1;33m)\u001b[0m \u001b[1;33m-\u001b[0m \u001b[0mdatetime\u001b[0m\u001b[1;33m.\u001b[0m\u001b[0mtimedelta\u001b[0m\u001b[1;33m(\u001b[0m\u001b[0mdays\u001b[0m\u001b[1;33m=\u001b[0m\u001b[1;36m7\u001b[0m\u001b[1;33m)\u001b[0m\u001b[1;33m)\u001b[0m\u001b[1;33m\u001b[0m\u001b[0m\n\u001b[0m",
      "\u001b[1;31mTypeError\u001b[0m: unorderable types: int() >= datetime.datetime()"
     ]
    }
   ],
   "source": [
    "history_raw = [pandas.Series(df['run_check_violation_cnt'].values, index=df['run_start_timestamp'].values)\n",
    "                    for df in [group[['run_start_timestamp', 'run_check_violation_cnt']]\n",
    "                               for key, group in data.groupby('instance_name')]]\n",
    "# Resample each timeseries by minute\n",
    "history = [hist.resample('H', how='count') for hist in history_raw]\n",
    "history[0].where(history[0].values >= datetime.datetime.now() - datetime.timedelta(days=7))"
   ]
  },
  {
   "cell_type": "code",
   "execution_count": 6,
   "metadata": {
    "collapsed": false
   },
   "outputs": [
    {
     "data": {
      "text/plain": [
       "2015-01-01    4380\n",
       "Freq: D, dtype: int64"
      ]
     },
     "execution_count": 6,
     "metadata": {},
     "output_type": "execute_result"
    }
   ],
   "source": [
    "series[0].resample('D', how='count')"
   ]
  },
  {
   "cell_type": "code",
   "execution_count": null,
   "metadata": {
    "collapsed": true
   },
   "outputs": [],
   "source": [
    "plots = [plt.figure() for h in history]"
   ]
  },
  {
   "cell_type": "code",
   "execution_count": null,
   "metadata": {
    "collapsed": true
   },
   "outputs": [],
   "source": []
  }
 ],
 "metadata": {
  "kernelspec": {
   "display_name": "Python 3",
   "language": "python",
   "name": "python3"
  },
  "language_info": {
   "codemirror_mode": {
    "name": "ipython",
    "version": 3
   },
   "file_extension": ".py",
   "mimetype": "text/x-python",
   "name": "python",
   "nbconvert_exporter": "python",
   "pygments_lexer": "ipython3",
   "version": "3.4.0"
  }
 },
 "nbformat": 4,
 "nbformat_minor": 0
}
