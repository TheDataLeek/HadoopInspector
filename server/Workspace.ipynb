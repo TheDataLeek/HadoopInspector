{
 "cells": [
  {
   "cell_type": "code",
   "execution_count": 97,
   "metadata": {
    "collapsed": false
   },
   "outputs": [],
   "source": [
    "import pandas\n",
    "import numpy as np\n",
    "import mpld3\n",
    "import matplotlib\n",
    "import matplotlib.pyplot as plt\n",
    "import datetime\n",
    "\n",
    "matplotlib.style.use('ggplot')\n",
    "\n",
    "%matplotlib inline"
   ]
  },
  {
   "cell_type": "code",
   "execution_count": 103,
   "metadata": {
    "collapsed": false
   },
   "outputs": [
    {
     "name": "stdout",
     "output_type": "stream",
     "text": [
      "<class 'pandas.tslib.Timestamp'>\n"
     ]
    },
    {
     "data": {
      "text/html": [
       "<div>\n",
       "<table border=\"1\" class=\"dataframe\">\n",
       "  <thead>\n",
       "    <tr style=\"text-align: right;\">\n",
       "      <th></th>\n",
       "      <th>instance_name</th>\n",
       "      <th>database_name</th>\n",
       "      <th>table_name</th>\n",
       "      <th>table_partitioned</th>\n",
       "      <th>run_start_timestamp</th>\n",
       "      <th>run_mode</th>\n",
       "      <th>partition_key</th>\n",
       "      <th>partition_value</th>\n",
       "      <th>check_name</th>\n",
       "      <th>check_policy_type</th>\n",
       "      <th>...</th>\n",
       "      <th>run_check_start_timestamp</th>\n",
       "      <th>run_check_end_timestamp</th>\n",
       "      <th>run_check_mode</th>\n",
       "      <th>run_check_rc</th>\n",
       "      <th>run_check_violation_cnt</th>\n",
       "      <th>run_check_anomaly_score</th>\n",
       "      <th>run_check_scope</th>\n",
       "      <th>run_check_unit</th>\n",
       "      <th>run_check_severity_score</th>\n",
       "      <th>run_check_validated</th>\n",
       "    </tr>\n",
       "  </thead>\n",
       "  <tbody>\n",
       "    <tr>\n",
       "      <th>0</th>\n",
       "      <td>prod</td>\n",
       "      <td>westwind</td>\n",
       "      <td>cust_asset_events</td>\n",
       "      <td>1</td>\n",
       "      <td>2015-01-01 02:00:00</td>\n",
       "      <td>incremental</td>\n",
       "      <td>date_id</td>\n",
       "      <td>2015001</td>\n",
       "      <td>date_id_fk</td>\n",
       "      <td>quality</td>\n",
       "      <td>...</td>\n",
       "      <td>2015-01-01 02:00:00</td>\n",
       "      <td>2015-01-01 02:00:01</td>\n",
       "      <td>incremental</td>\n",
       "      <td>0</td>\n",
       "      <td>0</td>\n",
       "      <td>0</td>\n",
       "      <td>0</td>\n",
       "      <td>rows</td>\n",
       "      <td>0</td>\n",
       "      <td>NaN</td>\n",
       "    </tr>\n",
       "    <tr>\n",
       "      <th>1</th>\n",
       "      <td>prod</td>\n",
       "      <td>westwind</td>\n",
       "      <td>cust_asset_events</td>\n",
       "      <td>1</td>\n",
       "      <td>2015-01-01 02:00:00</td>\n",
       "      <td>incremental</td>\n",
       "      <td>date_id</td>\n",
       "      <td>2015001</td>\n",
       "      <td>table_not_empty</td>\n",
       "      <td>quality</td>\n",
       "      <td>...</td>\n",
       "      <td>2015-01-01 02:00:01</td>\n",
       "      <td>2015-01-01 02:00:02</td>\n",
       "      <td>incremental</td>\n",
       "      <td>0</td>\n",
       "      <td>0</td>\n",
       "      <td>0</td>\n",
       "      <td>0</td>\n",
       "      <td>tables</td>\n",
       "      <td>0</td>\n",
       "      <td>NaN</td>\n",
       "    </tr>\n",
       "    <tr>\n",
       "      <th>2</th>\n",
       "      <td>prod</td>\n",
       "      <td>westwind</td>\n",
       "      <td>cust_asset_events</td>\n",
       "      <td>1</td>\n",
       "      <td>2015-01-01 02:00:00</td>\n",
       "      <td>incremental</td>\n",
       "      <td>date_id</td>\n",
       "      <td>2015001</td>\n",
       "      <td>asset_id_fk</td>\n",
       "      <td>quality</td>\n",
       "      <td>...</td>\n",
       "      <td>2015-01-01 02:00:02</td>\n",
       "      <td>2015-01-01 02:00:03</td>\n",
       "      <td>incremental</td>\n",
       "      <td>0</td>\n",
       "      <td>0</td>\n",
       "      <td>0</td>\n",
       "      <td>0</td>\n",
       "      <td>rows</td>\n",
       "      <td>0</td>\n",
       "      <td>NaN</td>\n",
       "    </tr>\n",
       "    <tr>\n",
       "      <th>3</th>\n",
       "      <td>prod</td>\n",
       "      <td>westwind</td>\n",
       "      <td>cust_asset_events</td>\n",
       "      <td>1</td>\n",
       "      <td>2015-01-01 02:00:00</td>\n",
       "      <td>incremental</td>\n",
       "      <td>date_id</td>\n",
       "      <td>2015001</td>\n",
       "      <td>cust_id_fk</td>\n",
       "      <td>quality</td>\n",
       "      <td>...</td>\n",
       "      <td>2015-01-01 02:00:03</td>\n",
       "      <td>2015-01-01 02:00:04</td>\n",
       "      <td>incremental</td>\n",
       "      <td>0</td>\n",
       "      <td>0</td>\n",
       "      <td>0</td>\n",
       "      <td>0</td>\n",
       "      <td>rows</td>\n",
       "      <td>0</td>\n",
       "      <td>NaN</td>\n",
       "    </tr>\n",
       "    <tr>\n",
       "      <th>4</th>\n",
       "      <td>prod</td>\n",
       "      <td>westwind</td>\n",
       "      <td>cust_asset_events</td>\n",
       "      <td>1</td>\n",
       "      <td>2015-01-01 02:00:00</td>\n",
       "      <td>incremental</td>\n",
       "      <td>date_id</td>\n",
       "      <td>2015001</td>\n",
       "      <td>stats_exist</td>\n",
       "      <td>data-management</td>\n",
       "      <td>...</td>\n",
       "      <td>2015-01-01 02:00:04</td>\n",
       "      <td>2015-01-01 02:00:05</td>\n",
       "      <td>full</td>\n",
       "      <td>0</td>\n",
       "      <td>0</td>\n",
       "      <td>0</td>\n",
       "      <td>0</td>\n",
       "      <td>tables</td>\n",
       "      <td>0</td>\n",
       "      <td>NaN</td>\n",
       "    </tr>\n",
       "  </tbody>\n",
       "</table>\n",
       "<p>5 rows × 21 columns</p>\n",
       "</div>"
      ],
      "text/plain": [
       "  instance_name database_name         table_name  table_partitioned  \\\n",
       "0          prod      westwind  cust_asset_events                  1   \n",
       "1          prod      westwind  cust_asset_events                  1   \n",
       "2          prod      westwind  cust_asset_events                  1   \n",
       "3          prod      westwind  cust_asset_events                  1   \n",
       "4          prod      westwind  cust_asset_events                  1   \n",
       "\n",
       "  run_start_timestamp     run_mode partition_key  partition_value  \\\n",
       "0 2015-01-01 02:00:00  incremental       date_id          2015001   \n",
       "1 2015-01-01 02:00:00  incremental       date_id          2015001   \n",
       "2 2015-01-01 02:00:00  incremental       date_id          2015001   \n",
       "3 2015-01-01 02:00:00  incremental       date_id          2015001   \n",
       "4 2015-01-01 02:00:00  incremental       date_id          2015001   \n",
       "\n",
       "        check_name check_policy_type         ...           \\\n",
       "0       date_id_fk           quality         ...            \n",
       "1  table_not_empty           quality         ...            \n",
       "2      asset_id_fk           quality         ...            \n",
       "3       cust_id_fk           quality         ...            \n",
       "4      stats_exist   data-management         ...            \n",
       "\n",
       "  run_check_start_timestamp run_check_end_timestamp run_check_mode  \\\n",
       "0       2015-01-01 02:00:00     2015-01-01 02:00:01    incremental   \n",
       "1       2015-01-01 02:00:01     2015-01-01 02:00:02    incremental   \n",
       "2       2015-01-01 02:00:02     2015-01-01 02:00:03    incremental   \n",
       "3       2015-01-01 02:00:03     2015-01-01 02:00:04    incremental   \n",
       "4       2015-01-01 02:00:04     2015-01-01 02:00:05           full   \n",
       "\n",
       "  run_check_rc  run_check_violation_cnt  run_check_anomaly_score  \\\n",
       "0            0                        0                        0   \n",
       "1            0                        0                        0   \n",
       "2            0                        0                        0   \n",
       "3            0                        0                        0   \n",
       "4            0                        0                        0   \n",
       "\n",
       "   run_check_scope  run_check_unit run_check_severity_score  \\\n",
       "0                0            rows                        0   \n",
       "1                0          tables                        0   \n",
       "2                0            rows                        0   \n",
       "3                0            rows                        0   \n",
       "4                0          tables                        0   \n",
       "\n",
       "   run_check_validated  \n",
       "0                  NaN  \n",
       "1                  NaN  \n",
       "2                  NaN  \n",
       "3                  NaN  \n",
       "4                  NaN  \n",
       "\n",
       "[5 rows x 21 columns]"
      ]
     },
     "execution_count": 103,
     "metadata": {},
     "output_type": "execute_result"
    }
   ],
   "source": [
    "data = pandas.read_csv('/tmp/inspector_demo.csv',\n",
    "                       parse_dates=['run_start_timestamp', 'run_check_start_timestamp', 'run_check_end_timestamp'],\n",
    "                       date_parser=lambda d: datetime.datetime.strptime(d, \"%Y-%m-%d %H:%M:%S\"))\n",
    "print(type(data['run_start_timestamp'][0]))\n",
    "data.head()"
   ]
  },
  {
   "cell_type": "code",
   "execution_count": 100,
   "metadata": {
    "collapsed": false
   },
   "outputs": [
    {
     "data": {
      "text/plain": [
       "[172669349]"
      ]
     },
     "execution_count": 100,
     "metadata": {},
     "output_type": "execute_result"
    }
   ],
   "source": [
    "[group['run_check_violation_cnt'].sum() for key, group in data.groupby('instance_name')]"
   ]
  },
  {
   "cell_type": "code",
   "execution_count": 101,
   "metadata": {
    "collapsed": false
   },
   "outputs": [
    {
     "ename": "TypeError",
     "evalue": "list indices must be integers, not str",
     "output_type": "error",
     "traceback": [
      "\u001b[0;31m---------------------------------------------------------------------------\u001b[0m",
      "\u001b[0;31mTypeError\u001b[0m                                 Traceback (most recent call last)",
      "\u001b[0;32m<ipython-input-101-b847bd9b0a30>\u001b[0m in \u001b[0;36m<module>\u001b[0;34m()\u001b[0m\n\u001b[1;32m      7\u001b[0m \u001b[0mfig\u001b[0m \u001b[0;34m=\u001b[0m \u001b[0mplt\u001b[0m\u001b[0;34m.\u001b[0m\u001b[0mfigure\u001b[0m\u001b[0;34m(\u001b[0m\u001b[0;34m)\u001b[0m\u001b[0;34m\u001b[0m\u001b[0m\n\u001b[1;32m      8\u001b[0m \u001b[0max\u001b[0m \u001b[0;34m=\u001b[0m \u001b[0mfig\u001b[0m\u001b[0;34m.\u001b[0m\u001b[0madd_axes\u001b[0m\u001b[0;34m(\u001b[0m\u001b[0;34m[\u001b[0m\u001b[0;36m0.1\u001b[0m\u001b[0;34m,\u001b[0m \u001b[0;36m0.1\u001b[0m\u001b[0;34m,\u001b[0m \u001b[0;36m0.8\u001b[0m\u001b[0;34m,\u001b[0m \u001b[0;36m0.8\u001b[0m\u001b[0;34m]\u001b[0m\u001b[0;34m)\u001b[0m\u001b[0;34m\u001b[0m\u001b[0m\n\u001b[0;32m----> 9\u001b[0;31m \u001b[0max\u001b[0m\u001b[0;34m.\u001b[0m\u001b[0mplot\u001b[0m\u001b[0;34m(\u001b[0m\u001b[0mhistory\u001b[0m\u001b[0;34m[\u001b[0m\u001b[0;34m'run_check_end_timestamp'\u001b[0m\u001b[0;34m]\u001b[0m\u001b[0;34m,\u001b[0m \u001b[0mhistory\u001b[0m\u001b[0;34m[\u001b[0m\u001b[0;34m'run_check_violation_cnt'\u001b[0m\u001b[0;34m]\u001b[0m\u001b[0;34m)\u001b[0m\u001b[0;34m\u001b[0m\u001b[0m\n\u001b[0m\u001b[1;32m     10\u001b[0m \u001b[0mplt\u001b[0m\u001b[0;34m.\u001b[0m\u001b[0mshow\u001b[0m\u001b[0;34m(\u001b[0m\u001b[0;34m)\u001b[0m\u001b[0;34m\u001b[0m\u001b[0m\n",
      "\u001b[0;31mTypeError\u001b[0m: list indices must be integers, not str"
     ]
    },
    {
     "data": {
      "image/png": "[encoded data removed]",
      "text/plain": [
       "<matplotlib.figure.Figure at 0x119077f28>"
      ]
     },
     "metadata": {},
     "output_type": "display_data"
    },
    {
     "data": {
      "image/png": "[encoded data removed]",
      "text/plain": [
       "<matplotlib.figure.Figure at 0x119077b00>"
      ]
     },
     "metadata": {},
     "output_type": "display_data"
    }
   ],
   "source": [
    "series = [pandas.Series(df['run_check_violation_cnt'].values, index=df['run_check_end_timestamp'].values)\n",
    "             for df in [group[['run_check_end_timestamp', 'run_check_violation_cnt']]\n",
    "                         for key, group in data.groupby('instance_name')]]\n",
    "history = [group[['run_check_end_timestamp', 'run_check_violation_cnt']]\n",
    "                         for key, group in data.groupby('instance_name')]\n",
    "[s[:100].plot() for s in series]\n",
    "fig = plt.figure()\n",
    "ax = fig.add_axes([0.1, 0.1, 0.8, 0.8])\n",
    "ax.plot(history['run_check_end_timestamp'], history['run_check_violation_cnt'])\n",
    "plt.show()"
   ]
  },
  {
   "cell_type": "code",
   "execution_count": 25,
   "metadata": {
    "collapsed": false
   },
   "outputs": [
    {
     "ename": "AttributeError",
     "evalue": "'AxesSubplot' object has no attribute 'savefig'",
     "output_type": "error",
     "traceback": [
      "\u001b[0;31m---------------------------------------------------------------------------\u001b[0m",
      "\u001b[0;31mAttributeError\u001b[0m                            Traceback (most recent call last)",
      "\u001b[0;32m<ipython-input-25-1d6715258805>\u001b[0m in \u001b[0;36m<module>\u001b[0;34m()\u001b[0m\n\u001b[0;32m----> 1\u001b[0;31m \u001b[0;34m[\u001b[0m\u001b[0mmpld3\u001b[0m\u001b[0;34m.\u001b[0m\u001b[0mfig_to_html\u001b[0m\u001b[0;34m(\u001b[0m\u001b[0mfig\u001b[0m\u001b[0;34m)\u001b[0m \u001b[0;32mfor\u001b[0m \u001b[0mfig\u001b[0m \u001b[0;32min\u001b[0m \u001b[0;34m[\u001b[0m\u001b[0mgroup\u001b[0m\u001b[0;34m[\u001b[0m\u001b[0;34m[\u001b[0m\u001b[0;34m'run_check_end_timestamp'\u001b[0m\u001b[0;34m,\u001b[0m \u001b[0;34m'run_check_violation_cnt'\u001b[0m\u001b[0;34m]\u001b[0m\u001b[0;34m]\u001b[0m\u001b[0;34m.\u001b[0m\u001b[0mplot\u001b[0m\u001b[0;34m(\u001b[0m\u001b[0;34m)\u001b[0m \u001b[0;32mfor\u001b[0m \u001b[0mkey\u001b[0m\u001b[0;34m,\u001b[0m \u001b[0mgroup\u001b[0m \u001b[0;32min\u001b[0m \u001b[0mdata\u001b[0m\u001b[0;34m.\u001b[0m\u001b[0mgroupby\u001b[0m\u001b[0;34m(\u001b[0m\u001b[0;34m'instance_name'\u001b[0m\u001b[0;34m)\u001b[0m\u001b[0;34m]\u001b[0m\u001b[0;34m]\u001b[0m\u001b[0;34m\u001b[0m\u001b[0m\n\u001b[0m",
      "\u001b[0;32m<ipython-input-25-1d6715258805>\u001b[0m in \u001b[0;36m<listcomp>\u001b[0;34m(.0)\u001b[0m\n\u001b[0;32m----> 1\u001b[0;31m \u001b[0;34m[\u001b[0m\u001b[0mmpld3\u001b[0m\u001b[0;34m.\u001b[0m\u001b[0mfig_to_html\u001b[0m\u001b[0;34m(\u001b[0m\u001b[0mfig\u001b[0m\u001b[0;34m)\u001b[0m \u001b[0;32mfor\u001b[0m \u001b[0mfig\u001b[0m \u001b[0;32min\u001b[0m \u001b[0;34m[\u001b[0m\u001b[0mgroup\u001b[0m\u001b[0;34m[\u001b[0m\u001b[0;34m[\u001b[0m\u001b[0;34m'run_check_end_timestamp'\u001b[0m\u001b[0;34m,\u001b[0m \u001b[0;34m'run_check_violation_cnt'\u001b[0m\u001b[0;34m]\u001b[0m\u001b[0;34m]\u001b[0m\u001b[0;34m.\u001b[0m\u001b[0mplot\u001b[0m\u001b[0;34m(\u001b[0m\u001b[0;34m)\u001b[0m \u001b[0;32mfor\u001b[0m \u001b[0mkey\u001b[0m\u001b[0;34m,\u001b[0m \u001b[0mgroup\u001b[0m \u001b[0;32min\u001b[0m \u001b[0mdata\u001b[0m\u001b[0;34m.\u001b[0m\u001b[0mgroupby\u001b[0m\u001b[0;34m(\u001b[0m\u001b[0;34m'instance_name'\u001b[0m\u001b[0;34m)\u001b[0m\u001b[0;34m]\u001b[0m\u001b[0;34m]\u001b[0m\u001b[0;34m\u001b[0m\u001b[0m\n\u001b[0m",
      "\u001b[0;32m/usr/local/lib/python3.4/site-packages/mpld3/_display.py\u001b[0m in \u001b[0;36mfig_to_html\u001b[0;34m(fig, d3_url, mpld3_url, no_extras, template_type, figid, use_http, **kwargs)\u001b[0m\n\u001b[1;32m    223\u001b[0m \u001b[0;34m\u001b[0m\u001b[0m\n\u001b[1;32m    224\u001b[0m     \u001b[0mrenderer\u001b[0m \u001b[0;34m=\u001b[0m \u001b[0mMPLD3Renderer\u001b[0m\u001b[0;34m(\u001b[0m\u001b[0;34m)\u001b[0m\u001b[0;34m\u001b[0m\u001b[0m\n\u001b[0;32m--> 225\u001b[0;31m     \u001b[0mExporter\u001b[0m\u001b[0;34m(\u001b[0m\u001b[0mrenderer\u001b[0m\u001b[0;34m,\u001b[0m \u001b[0mclose_mpl\u001b[0m\u001b[0;34m=\u001b[0m\u001b[0;32mFalse\u001b[0m\u001b[0;34m,\u001b[0m \u001b[0;34m**\u001b[0m\u001b[0mkwargs\u001b[0m\u001b[0;34m)\u001b[0m\u001b[0;34m.\u001b[0m\u001b[0mrun\u001b[0m\u001b[0;34m(\u001b[0m\u001b[0mfig\u001b[0m\u001b[0;34m)\u001b[0m\u001b[0;34m\u001b[0m\u001b[0m\n\u001b[0m\u001b[1;32m    226\u001b[0m \u001b[0;34m\u001b[0m\u001b[0m\n\u001b[1;32m    227\u001b[0m     \u001b[0mfig\u001b[0m\u001b[0;34m,\u001b[0m \u001b[0mfigure_json\u001b[0m\u001b[0;34m,\u001b[0m \u001b[0mextra_css\u001b[0m\u001b[0;34m,\u001b[0m \u001b[0mextra_js\u001b[0m \u001b[0;34m=\u001b[0m \u001b[0mrenderer\u001b[0m\u001b[0;34m.\u001b[0m\u001b[0mfinished_figures\u001b[0m\u001b[0;34m[\u001b[0m\u001b[0;36m0\u001b[0m\u001b[0;34m]\u001b[0m\u001b[0;34m\u001b[0m\u001b[0m\n",
      "\u001b[0;32m/usr/local/lib/python3.4/site-packages/mpld3/mplexporter/exporter.py\u001b[0m in \u001b[0;36mrun\u001b[0;34m(self, fig)\u001b[0m\n\u001b[1;32m     43\u001b[0m         \u001b[0;31m# Calling savefig executes the draw() command, putting elements\u001b[0m\u001b[0;34m\u001b[0m\u001b[0;34m\u001b[0m\u001b[0m\n\u001b[1;32m     44\u001b[0m         \u001b[0;31m# in the correct place.\u001b[0m\u001b[0;34m\u001b[0m\u001b[0;34m\u001b[0m\u001b[0m\n\u001b[0;32m---> 45\u001b[0;31m         \u001b[0mfig\u001b[0m\u001b[0;34m.\u001b[0m\u001b[0msavefig\u001b[0m\u001b[0;34m(\u001b[0m\u001b[0mio\u001b[0m\u001b[0;34m.\u001b[0m\u001b[0mBytesIO\u001b[0m\u001b[0;34m(\u001b[0m\u001b[0;34m)\u001b[0m\u001b[0;34m,\u001b[0m \u001b[0mformat\u001b[0m\u001b[0;34m=\u001b[0m\u001b[0;34m'png'\u001b[0m\u001b[0;34m,\u001b[0m \u001b[0mdpi\u001b[0m\u001b[0;34m=\u001b[0m\u001b[0mfig\u001b[0m\u001b[0;34m.\u001b[0m\u001b[0mdpi\u001b[0m\u001b[0;34m)\u001b[0m\u001b[0;34m\u001b[0m\u001b[0m\n\u001b[0m\u001b[1;32m     46\u001b[0m         \u001b[0;32mif\u001b[0m \u001b[0mself\u001b[0m\u001b[0;34m.\u001b[0m\u001b[0mclose_mpl\u001b[0m\u001b[0;34m:\u001b[0m\u001b[0;34m\u001b[0m\u001b[0m\n\u001b[1;32m     47\u001b[0m             \u001b[0;32mimport\u001b[0m \u001b[0mmatplotlib\u001b[0m\u001b[0;34m.\u001b[0m\u001b[0mpyplot\u001b[0m \u001b[0;32mas\u001b[0m \u001b[0mplt\u001b[0m\u001b[0;34m\u001b[0m\u001b[0m\n",
      "\u001b[0;31mAttributeError\u001b[0m: 'AxesSubplot' object has no attribute 'savefig'"
     ]
    }
   ],
   "source": [
    "[mpld3.fig_to_html(fig) for fig in [group[['run_check_end_timestamp', 'run_check_violation_cnt']].plot() for key, group in data.groupby('instance_name')]]"
   ]
  },
  {
   "cell_type": "code",
   "execution_count": null,
   "metadata": {
    "collapsed": true
   },
   "outputs": [],
   "source": []
  }
 ],
 "metadata": {
  "kernelspec": {
   "display_name": "Python 3",
   "language": "python",
   "name": "python3"
  },
  "language_info": {
   "codemirror_mode": {
    "name": "ipython",
    "version": 3
   },
   "file_extension": ".py",
   "mimetype": "text/x-python",
   "name": "python",
   "nbconvert_exporter": "python",
   "pygments_lexer": "ipython3",
   "version": "3.4.3"
  }
 },
 "nbformat": 4,
 "nbformat_minor": 0
}
