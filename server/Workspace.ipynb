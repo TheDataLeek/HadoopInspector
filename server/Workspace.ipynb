{
 "cells": [
  {
   "cell_type": "code",
   "execution_count": 2,
   "metadata": {},
   "outputs": [],
   "source": [
    "import pandas\n",
    "import numpy as np\n",
    "import mpld3\n",
    "import matplotlib\n",
    "import matplotlib.pyplot as plt\n",
    "import datetime\n",
    "\n",
    "matplotlib.style.use('ggplot')\n",
    "\n",
    "%matplotlib inline"
   ]
  },
  {
   "cell_type": "code",
   "execution_count": 3,
   "metadata": {},
   "outputs": [
    {
     "name": "stdout",
     "output_type": "stream",
     "text": [
      "<class 'pandas.tslib.Timestamp'>\n"
     ]
    },
    {
     "data": {
      "text/html": [
       "<div style=\"max-height:1000px;max-width:1500px;overflow:auto;\">\n",
       "<table border=\"1\" class=\"dataframe\">\n",
       "  <thead>\n",
       "    <tr style=\"text-align: right;\">\n",
       "      <th></th>\n",
       "      <th>instance_name</th>\n",
       "      <th>database_name</th>\n",
       "      <th>table_name</th>\n",
       "      <th>table_partitioned</th>\n",
       "      <th>run_start_timestamp</th>\n",
       "      <th>run_mode</th>\n",
       "      <th>partition_key</th>\n",
       "      <th>partition_value</th>\n",
       "      <th>check_name</th>\n",
       "      <th>check_policy_type</th>\n",
       "      <th>...</th>\n",
       "      <th>run_check_start_timestamp</th>\n",
       "      <th>run_check_end_timestamp</th>\n",
       "      <th>run_check_mode</th>\n",
       "      <th>run_check_rc</th>\n",
       "      <th>run_check_violation_cnt</th>\n",
       "      <th>run_check_anomaly_score</th>\n",
       "      <th>run_check_scope</th>\n",
       "      <th>run_check_unit</th>\n",
       "      <th>run_check_severity_score</th>\n",
       "      <th>run_check_validated</th>\n",
       "    </tr>\n",
       "  </thead>\n",
       "  <tbody>\n",
       "    <tr>\n",
       "      <th>0</th>\n",
       "      <td>prod</td>\n",
       "      <td>westwind</td>\n",
       "      <td>cust_asset_events</td>\n",
       "      <td>1</td>\n",
       "      <td>2015-01-01 02:00:00</td>\n",
       "      <td>incremental</td>\n",
       "      <td>date_id</td>\n",
       "      <td>2015001</td>\n",
       "      <td>date_id_fk</td>\n",
       "      <td>quality</td>\n",
       "      <td>...</td>\n",
       "      <td>2015-01-01 02:00:00</td>\n",
       "      <td>2015-01-01 02:00:01</td>\n",
       "      <td>incremental</td>\n",
       "      <td>0</td>\n",
       "      <td>956240</td>\n",
       "      <td>0</td>\n",
       "      <td>0.95624</td>\n",
       "      <td>rows</td>\n",
       "      <td>1</td>\n",
       "      <td>NaN</td>\n",
       "    </tr>\n",
       "    <tr>\n",
       "      <th>1</th>\n",
       "      <td>prod</td>\n",
       "      <td>westwind</td>\n",
       "      <td>cust_asset_events</td>\n",
       "      <td>1</td>\n",
       "      <td>2015-01-01 02:00:00</td>\n",
       "      <td>incremental</td>\n",
       "      <td>date_id</td>\n",
       "      <td>2015001</td>\n",
       "      <td>table_not_empty</td>\n",
       "      <td>quality</td>\n",
       "      <td>...</td>\n",
       "      <td>2015-01-01 02:00:01</td>\n",
       "      <td>2015-01-01 02:00:02</td>\n",
       "      <td>incremental</td>\n",
       "      <td>0</td>\n",
       "      <td>0</td>\n",
       "      <td>0</td>\n",
       "      <td>0.00000</td>\n",
       "      <td>tables</td>\n",
       "      <td>0</td>\n",
       "      <td>NaN</td>\n",
       "    </tr>\n",
       "    <tr>\n",
       "      <th>2</th>\n",
       "      <td>prod</td>\n",
       "      <td>westwind</td>\n",
       "      <td>cust_asset_events</td>\n",
       "      <td>1</td>\n",
       "      <td>2015-01-01 02:00:00</td>\n",
       "      <td>incremental</td>\n",
       "      <td>date_id</td>\n",
       "      <td>2015001</td>\n",
       "      <td>asset_id_fk</td>\n",
       "      <td>quality</td>\n",
       "      <td>...</td>\n",
       "      <td>2015-01-01 02:00:02</td>\n",
       "      <td>2015-01-01 02:00:03</td>\n",
       "      <td>incremental</td>\n",
       "      <td>0</td>\n",
       "      <td>0</td>\n",
       "      <td>0</td>\n",
       "      <td>0.00000</td>\n",
       "      <td>rows</td>\n",
       "      <td>0</td>\n",
       "      <td>NaN</td>\n",
       "    </tr>\n",
       "    <tr>\n",
       "      <th>3</th>\n",
       "      <td>prod</td>\n",
       "      <td>westwind</td>\n",
       "      <td>cust_asset_events</td>\n",
       "      <td>1</td>\n",
       "      <td>2015-01-01 02:00:00</td>\n",
       "      <td>incremental</td>\n",
       "      <td>date_id</td>\n",
       "      <td>2015001</td>\n",
       "      <td>cust_id_fk</td>\n",
       "      <td>quality</td>\n",
       "      <td>...</td>\n",
       "      <td>2015-01-01 02:00:03</td>\n",
       "      <td>2015-01-01 02:00:04</td>\n",
       "      <td>incremental</td>\n",
       "      <td>0</td>\n",
       "      <td>0</td>\n",
       "      <td>0</td>\n",
       "      <td>0.00000</td>\n",
       "      <td>rows</td>\n",
       "      <td>0</td>\n",
       "      <td>NaN</td>\n",
       "    </tr>\n",
       "    <tr>\n",
       "      <th>4</th>\n",
       "      <td>prod</td>\n",
       "      <td>westwind</td>\n",
       "      <td>cust_asset_events</td>\n",
       "      <td>1</td>\n",
       "      <td>2015-01-01 02:00:00</td>\n",
       "      <td>incremental</td>\n",
       "      <td>date_id</td>\n",
       "      <td>2015001</td>\n",
       "      <td>stats_exist</td>\n",
       "      <td>data-management</td>\n",
       "      <td>...</td>\n",
       "      <td>2015-01-01 02:00:04</td>\n",
       "      <td>2015-01-01 02:00:05</td>\n",
       "      <td>full</td>\n",
       "      <td>0</td>\n",
       "      <td>0</td>\n",
       "      <td>0</td>\n",
       "      <td>0.00000</td>\n",
       "      <td>tables</td>\n",
       "      <td>0</td>\n",
       "      <td>NaN</td>\n",
       "    </tr>\n",
       "  </tbody>\n",
       "</table>\n",
       "<p>5 rows × 21 columns</p>\n",
       "</div>"
      ]
     },
     "output_type": "execute_result",
     "metadata": {}
    }
   ],
   "source": [
    "data = pandas.read_csv('/tmp/inspector_demo.csv',\n",
    "                       parse_dates=['run_start_timestamp', 'run_check_start_timestamp', 'run_check_end_timestamp'],\n",
    "                       date_parser=lambda d: datetime.datetime.strptime(d, \"%Y-%m-%d %H:%M:%S\"))\n",
    "print(type(data['run_start_timestamp'][0]))\n",
    "data.head()"
   ]
  },
  {
   "cell_type": "code",
   "execution_count": 11,
   "metadata": {},
   "outputs": [
    {
     "ename": "ValueError",
     "evalue": "cannot use label indexing with a null key",
     "output_type": "error",
     "traceback": [
      "\u001b[1;31m---------------------------------------------------------------------------\u001b[0m",
      "\u001b[1;31mValueError\u001b[0m                                Traceback (most recent call last)",
      "\u001b[1;32m/usr/local/lib/python3.4/dist-packages/pandas/core/indexing.py\u001b[0m in \u001b[0;36m_has_valid_type\u001b[1;34m(self, key, axis)\u001b[0m\n\u001b[0;32m   1314\u001b[0m                 \u001b[1;32mif\u001b[0m \u001b[1;32mnot\u001b[0m \u001b[0mkey\u001b[0m \u001b[1;32min\u001b[0m \u001b[0max\u001b[0m\u001b[1;33m:\u001b[0m\u001b[1;33m\u001b[0m\u001b[0m\n\u001b[1;32m-> 1315\u001b[1;33m                     \u001b[0merror\u001b[0m\u001b[1;33m(\u001b[0m\u001b[1;33m)\u001b[0m\u001b[1;33m\u001b[0m\u001b[0m\n\u001b[0m\u001b[0;32m   1316\u001b[0m             \u001b[1;32mexcept\u001b[0m \u001b[1;33m(\u001b[0m\u001b[0mTypeError\u001b[0m\u001b[1;33m)\u001b[0m \u001b[1;32mas\u001b[0m \u001b[0me\u001b[0m\u001b[1;33m:\u001b[0m\u001b[1;33m\u001b[0m\u001b[0m\n",
      "\u001b[1;32m/usr/local/lib/python3.4/dist-packages/pandas/core/indexing.py\u001b[0m in \u001b[0;36merror\u001b[1;34m()\u001b[0m\n\u001b[0;32m   1307\u001b[0m                     raise ValueError(\n\u001b[1;32m-> 1308\u001b[1;33m                         \"cannot use label indexing with a null key\")\n\u001b[0m\u001b[0;32m   1309\u001b[0m                 raise KeyError(\"the label [%s] is not in the [%s]\" %\n",
      "\u001b[1;31mValueError\u001b[0m: cannot use label indexing with a null key",
      "\nDuring handling of the above exception, another exception occurred:\n",
      "\u001b[1;31mValueError\u001b[0m                                Traceback (most recent call last)",
      "\u001b[1;32m<ipython-input-11-a1e8e452a2c0>\u001b[0m in \u001b[0;36m<module>\u001b[1;34m()\u001b[0m\n\u001b[1;32m----> 1\u001b[1;33m \u001b[0mdata\u001b[0m\u001b[1;33m.\u001b[0m\u001b[0mloc\u001b[0m\u001b[1;33m[\u001b[0m\u001b[1;32mNone\u001b[0m\u001b[1;33m]\u001b[0m\u001b[1;33m\u001b[0m\u001b[0m\n\u001b[0m",
      "\u001b[1;32m/usr/local/lib/python3.4/dist-packages/pandas/core/indexing.py\u001b[0m in \u001b[0;36m__getitem__\u001b[1;34m(self, key)\u001b[0m\n\u001b[0;32m   1215\u001b[0m             \u001b[1;32mreturn\u001b[0m \u001b[0mself\u001b[0m\u001b[1;33m.\u001b[0m\u001b[0m_getitem_tuple\u001b[0m\u001b[1;33m(\u001b[0m\u001b[0mkey\u001b[0m\u001b[1;33m)\u001b[0m\u001b[1;33m\u001b[0m\u001b[0m\n\u001b[0;32m   1216\u001b[0m         \u001b[1;32melse\u001b[0m\u001b[1;33m:\u001b[0m\u001b[1;33m\u001b[0m\u001b[0m\n\u001b[1;32m-> 1217\u001b[1;33m             \u001b[1;32mreturn\u001b[0m \u001b[0mself\u001b[0m\u001b[1;33m.\u001b[0m\u001b[0m_getitem_axis\u001b[0m\u001b[1;33m(\u001b[0m\u001b[0mkey\u001b[0m\u001b[1;33m,\u001b[0m \u001b[0maxis\u001b[0m\u001b[1;33m=\u001b[0m\u001b[1;36m0\u001b[0m\u001b[1;33m)\u001b[0m\u001b[1;33m\u001b[0m\u001b[0m\n\u001b[0m\u001b[0;32m   1218\u001b[0m \u001b[1;33m\u001b[0m\u001b[0m\n\u001b[0;32m   1219\u001b[0m     \u001b[1;32mdef\u001b[0m \u001b[0m_getitem_axis\u001b[0m\u001b[1;33m(\u001b[0m\u001b[0mself\u001b[0m\u001b[1;33m,\u001b[0m \u001b[0mkey\u001b[0m\u001b[1;33m,\u001b[0m \u001b[0maxis\u001b[0m\u001b[1;33m=\u001b[0m\u001b[1;36m0\u001b[0m\u001b[1;33m)\u001b[0m\u001b[1;33m:\u001b[0m\u001b[1;33m\u001b[0m\u001b[0m\n",
      "\u001b[1;32m/usr/local/lib/python3.4/dist-packages/pandas/core/indexing.py\u001b[0m in \u001b[0;36m_getitem_axis\u001b[1;34m(self, key, axis)\u001b[0m\n\u001b[0;32m   1359\u001b[0m \u001b[1;33m\u001b[0m\u001b[0m\n\u001b[0;32m   1360\u001b[0m         \u001b[1;31m# fall thru to straight lookup\u001b[0m\u001b[1;33m\u001b[0m\u001b[1;33m\u001b[0m\u001b[0m\n\u001b[1;32m-> 1361\u001b[1;33m         \u001b[0mself\u001b[0m\u001b[1;33m.\u001b[0m\u001b[0m_has_valid_type\u001b[0m\u001b[1;33m(\u001b[0m\u001b[0mkey\u001b[0m\u001b[1;33m,\u001b[0m \u001b[0maxis\u001b[0m\u001b[1;33m)\u001b[0m\u001b[1;33m\u001b[0m\u001b[0m\n\u001b[0m\u001b[0;32m   1362\u001b[0m         \u001b[1;32mreturn\u001b[0m \u001b[0mself\u001b[0m\u001b[1;33m.\u001b[0m\u001b[0m_get_label\u001b[0m\u001b[1;33m(\u001b[0m\u001b[0mkey\u001b[0m\u001b[1;33m,\u001b[0m \u001b[0maxis\u001b[0m\u001b[1;33m=\u001b[0m\u001b[0maxis\u001b[0m\u001b[1;33m)\u001b[0m\u001b[1;33m\u001b[0m\u001b[0m\n\u001b[0;32m   1363\u001b[0m \u001b[1;33m\u001b[0m\u001b[0m\n",
      "\u001b[1;32m/usr/local/lib/python3.4/dist-packages/pandas/core/indexing.py\u001b[0m in \u001b[0;36m_has_valid_type\u001b[1;34m(self, key, axis)\u001b[0m\n\u001b[0;32m   1321\u001b[0m                 \u001b[1;32mraise\u001b[0m\u001b[1;33m\u001b[0m\u001b[0m\n\u001b[0;32m   1322\u001b[0m             \u001b[1;32mexcept\u001b[0m\u001b[1;33m:\u001b[0m\u001b[1;33m\u001b[0m\u001b[0m\n\u001b[1;32m-> 1323\u001b[1;33m                 \u001b[0merror\u001b[0m\u001b[1;33m(\u001b[0m\u001b[1;33m)\u001b[0m\u001b[1;33m\u001b[0m\u001b[0m\n\u001b[0m\u001b[0;32m   1324\u001b[0m \u001b[1;33m\u001b[0m\u001b[0m\n\u001b[0;32m   1325\u001b[0m         \u001b[1;32mreturn\u001b[0m \u001b[1;32mTrue\u001b[0m\u001b[1;33m\u001b[0m\u001b[0m\n",
      "\u001b[1;32m/usr/local/lib/python3.4/dist-packages/pandas/core/indexing.py\u001b[0m in \u001b[0;36merror\u001b[1;34m()\u001b[0m\n\u001b[0;32m   1306\u001b[0m                 \u001b[1;32mif\u001b[0m \u001b[0misnull\u001b[0m\u001b[1;33m(\u001b[0m\u001b[0mkey\u001b[0m\u001b[1;33m)\u001b[0m\u001b[1;33m:\u001b[0m\u001b[1;33m\u001b[0m\u001b[0m\n\u001b[0;32m   1307\u001b[0m                     raise ValueError(\n\u001b[1;32m-> 1308\u001b[1;33m                         \"cannot use label indexing with a null key\")\n\u001b[0m\u001b[0;32m   1309\u001b[0m                 raise KeyError(\"the label [%s] is not in the [%s]\" %\n\u001b[0;32m   1310\u001b[0m                                (key, self.obj._get_axis_name(axis)))\n",
      "\u001b[1;31mValueError\u001b[0m: cannot use label indexing with a null key"
     ]
    }
   ],
   "source": [
    "data.loc[None]"
   ]
  },
  {
   "cell_type": "code",
   "execution_count": 4,
   "metadata": {},
   "outputs": [
    {
     "data": {
      "text/plain": [
       "[173141415]"
      ]
     },
     "execution_count": 4,
     "output_type": "execute_result",
     "metadata": {}
    }
   ],
   "source": [
    "[group['run_check_violation_cnt'].sum() for key, group in data.groupby('instance_name')]"
   ]
  },
  {
   "cell_type": "code",
   "execution_count": 5,
   "metadata": {},
   "outputs": [
    {
     "data": {
      "text/plain": [
       "[2015-01-01 02:00:01    956240\n",
       " 2015-01-01 02:00:02         0\n",
       " 2015-01-01 02:00:03         0\n",
       " 2015-01-01 02:00:04         0\n",
       " 2015-01-01 02:00:05         0\n",
       " 2015-01-01 02:00:06         0\n",
       " 2015-01-01 02:00:07         0\n",
       " 2015-01-01 02:00:08         0\n",
       " 2015-01-01 02:00:09         0\n",
       " 2015-01-01 02:00:10         0\n",
       " 2015-01-01 02:00:11         0\n",
       " 2015-01-01 02:00:12         0\n",
       " 2015-01-01 02:00:13         0\n",
       " 2015-01-01 02:00:14         0\n",
       " 2015-01-01 02:00:15         0\n",
       " 2015-01-01 02:00:16         0\n",
       " 2015-01-01 02:00:17         0\n",
       " 2015-01-01 02:00:18         0\n",
       " 2015-01-01 02:00:19         0\n",
       " 2015-01-01 02:00:20         0\n",
       " 2015-01-01 02:00:21         0\n",
       " 2015-01-01 02:00:22         0\n",
       " 2015-01-01 02:00:23         0\n",
       " 2015-01-01 02:00:24         0\n",
       " 2015-01-01 02:00:25         0\n",
       " 2015-01-01 02:00:26         0\n",
       " 2015-01-01 02:00:27         0\n",
       " 2015-01-01 02:00:28         0\n",
       " 2015-01-01 02:00:29         0\n",
       " 2015-01-01 02:00:30         0\n",
       "                         ...  \n",
       " 2015-01-01 03:12:31         0\n",
       " 2015-01-01 03:12:32         0\n",
       " 2015-01-01 03:12:33         0\n",
       " 2015-01-01 03:12:34         0\n",
       " 2015-01-01 03:12:35         0\n",
       " 2015-01-01 03:12:36         0\n",
       " 2015-01-01 03:12:37         0\n",
       " 2015-01-01 03:12:38         0\n",
       " 2015-01-01 03:12:39         0\n",
       " 2015-01-01 03:12:40         0\n",
       " 2015-01-01 03:12:41         0\n",
       " 2015-01-01 03:12:42         0\n",
       " 2015-01-01 03:12:43         0\n",
       " 2015-01-01 03:12:44         0\n",
       " 2015-01-01 03:12:45         0\n",
       " 2015-01-01 03:12:46         0\n",
       " 2015-01-01 03:12:47         0\n",
       " 2015-01-01 03:12:48         0\n",
       " 2015-01-01 03:12:49         0\n",
       " 2015-01-01 03:12:50         0\n",
       " 2015-01-01 03:12:51         0\n",
       " 2015-01-01 03:12:52         0\n",
       " 2015-01-01 03:12:53         0\n",
       " 2015-01-01 03:12:54         0\n",
       " 2015-01-01 03:12:55         0\n",
       " 2015-01-01 03:12:56         0\n",
       " 2015-01-01 03:12:57         0\n",
       " 2015-01-01 03:12:58         0\n",
       " 2015-01-01 03:12:59         0\n",
       " 2015-01-01 03:13:00         0\n",
       " dtype: int64]"
      ]
     },
     "execution_count": 5,
     "output_type": "execute_result",
     "metadata": {}
    }
   ],
   "source": [
    "series = [pandas.Series(df['run_check_violation_cnt'].values, index=df['run_check_end_timestamp'].values)\n",
    "             for df in [group[['run_check_end_timestamp', 'run_check_violation_cnt']]\n",
    "                         for key, group in data.groupby('instance_name')]]\n",
    "series"
   ]
  },
  {
   "cell_type": "code",
   "execution_count": 6,
   "metadata": {},
   "outputs": [
    {
     "data": {
      "text/plain": [
       "2015-01-01    4380\n",
       "Freq: D, dtype: int64"
      ]
     },
     "execution_count": 6,
     "output_type": "execute_result",
     "metadata": {}
    }
   ],
   "source": [
    "series[0].resample('D', how='count')"
   ]
  },
  {
   "cell_type": "code",
   "execution_count": null,
   "metadata": {},
   "outputs": [],
   "source": [
    "plots = [plt.figure() for h in history]"
   ]
  },
  {
   "cell_type": "code",
   "execution_count": null,
   "metadata": {},
   "outputs": [],
   "source": [
    ""
   ]
  }
 ],
 "metadata": {
  "kernelspec": {
   "display_name": "Python 3",
   "language": "python",
   "name": "python3"
  },
  "language_info": {
   "codemirror_mode": {
    "name": "ipython",
    "version": 3.0
   },
   "file_extension": ".py",
   "mimetype": "text/x-python",
   "name": "python",
   "nbconvert_exporter": "python",
   "pygments_lexer": "ipython3",
   "version": "3.4.0"
  }
 },
 "nbformat": 4,
 "nbformat_minor": 0
}